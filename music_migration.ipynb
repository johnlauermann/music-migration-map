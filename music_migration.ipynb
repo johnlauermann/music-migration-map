{
 "cells": [
  {
   "attachments": {},
   "cell_type": "markdown",
   "metadata": {},
   "source": [
    "# Music migrations map\n",
    "This script creates geospatial data for Cisco Bradley's Global Jazz Diasporas project at the Pratt Institute Music & Migration Lab. It ingests the historical database of musician migrations, geocodes the migrations, and calculates metrics about the migration network. \n",
    "\n",
    "### Set up for replication\n",
    "This script was designed to be run in ArcGIS Pro 3.4 using Python 3. To replicate, create a new ArcGIS project, add this notebook, and then run as follows. "
   ]
  },
  {
   "cell_type": "code",
   "execution_count": 1,
   "metadata": {},
   "outputs": [],
   "source": [
    "import arcpy\n",
    "import os\n",
    "import pandas"
   ]
  },
  {
   "cell_type": "code",
   "execution_count": 2,
   "metadata": {},
   "outputs": [
    {
     "name": "stdout",
     "output_type": "stream",
     "text": [
      "Directory: C:\\Users\\johnl\\My Drive (jlauerma@pratt.edu)\\Research\\Music and Migration\n",
      "Geodatabase: C:\\Users\\johnl\\My Drive (jlauerma@pratt.edu)\\Research\\Music and Migration\\MusicMigration.gdb\n"
     ]
    }
   ],
   "source": [
    "#set up workspaces and check database\n",
    "aprx = arcpy.mp.ArcGISProject(\"Current\")\n",
    "default_gdb = aprx.defaultGeodatabase\n",
    "default_folder = aprx.homeFolder\n",
    "arcpy.env.overwriteOutput = True\n",
    "print(\"Directory: \" + default_folder)\n",
    "print(\"Geodatabase: \" + default_gdb)"
   ]
  },
  {
   "cell_type": "markdown",
   "metadata": {},
   "source": [
    "### Load and edit tabular data\n",
    "The source data is stored as a Google Sheet to enable ongoing updates by the research team. The script pulls a CSV from the Google Sheets API and then loads to a pandas data frame. It then processes the data for mapping by creating a unique identification key for each musician and each migration segment. Genre details are also defined and split into the wide data structure needed for subsequent mapping. "
   ]
  },
  {
   "cell_type": "code",
   "execution_count": 3,
   "metadata": {},
   "outputs": [
    {
     "data": {
      "text/plain": [
       "Index(['Arrival Country', 'Arrival State', 'Arrival County', 'Arrival City',\n",
       "       'Musician Name', 'Arrival', 'Depart', 'Depart Country', 'Depart State',\n",
       "       'Depart County', 'Depart City', 'Final Destination', 'Genre',\n",
       "       'Instrument', 'Free', 'Roots', 'Dyn', 'Public', 'Dynasty Name',\n",
       "       'Unnamed: 19', 'Unnamed: 20', 'Unnamed: 21'],\n",
       "      dtype='object')"
      ]
     },
     "execution_count": 3,
     "metadata": {},
     "output_type": "execute_result"
    }
   ],
   "source": [
    "# load the data from Google Sheets\n",
    "file_url = \"https://docs.google.com/spreadsheets/d/e/2PACX-1vTocsXDPTgZKf9P7JkGUd-pg0Hj5huEShxLSkIyLArLaZxUFmqu3xYd33o9Oj1FJQvnl2IlMGGgAv5Y/pub?gid=0&single=true&output=csv\"\n",
    "data = pandas.read_csv(file_url)\n",
    "data.columns"
   ]
  },
  {
   "cell_type": "code",
   "execution_count": 4,
   "metadata": {},
   "outputs": [
    {
     "data": {
      "text/plain": [
       "Index(['Arrival Country', 'Arrival State', 'Arrival County', 'Arrival City',\n",
       "       'Musician Name', 'Arrival', 'Depart', 'Depart Country', 'Depart State',\n",
       "       'Depart County', 'Depart City', 'Final Destination', 'Genre',\n",
       "       'Instrument', 'Free', 'Roots', 'Dyn', 'Public', 'Dynasty Name'],\n",
       "      dtype='object')"
      ]
     },
     "execution_count": 4,
     "metadata": {},
     "output_type": "execute_result"
    }
   ],
   "source": [
    "# drop unnessary columns\n",
    "data = data.drop(columns = ['Unnamed: 19', 'Unnamed: 20', 'Unnamed: 21'])\n",
    "data.columns"
   ]
  },
  {
   "cell_type": "code",
   "execution_count": 5,
   "metadata": {},
   "outputs": [
    {
     "name": "stdout",
     "output_type": "stream",
     "text": [
      "1505 musicians listed\n"
     ]
    }
   ],
   "source": [
    "#create a unique ID for each musician \n",
    "data = data.sort_values(by='Musician Name')\n",
    "data['MusicianID'] = data['Musician Name'].factorize()[0]+1\n",
    "MusicianIDs = data['MusicianID'].nunique()\n",
    "print(MusicianIDs, \"musicians listed\")"
   ]
  },
  {
   "cell_type": "code",
   "execution_count": 6,
   "metadata": {},
   "outputs": [
    {
     "name": "stdout",
     "output_type": "stream",
     "text": [
      "7466 unique travel paths listed\n"
     ]
    }
   ],
   "source": [
    "#create a unique ID for each segement on the network\n",
    "data['SegmentID'] = data['MusicianID'].astype(str) + data['Arrival'].astype(str) + data['Depart'].astype(str)\n",
    "segmentIDs = data['SegmentID'].nunique()\n",
    "print(segmentIDs, \"unique travel paths listed\")"
   ]
  },
  {
   "cell_type": "code",
   "execution_count": 7,
   "metadata": {},
   "outputs": [
    {
     "name": "stdout",
     "output_type": "stream",
     "text": [
      "Unique genre combinations: 294\n"
     ]
    }
   ],
   "source": [
    "#classify genre information\n",
    "## dictionary mapping abbreviations to genres\n",
    "genre_mapping = {\n",
    "    'AC': 'Afro-Cuban Jazz',\n",
    "    'AF': 'African Jazz',\n",
    "    'AJ': 'Acid Jazz',\n",
    "    'AR': 'Acid Rock',\n",
    "    'BB': 'Bebop',\n",
    "    'BG': 'Boogaloo',\n",
    "    'BL': 'Blues',\n",
    "    'BN': 'Bossa Nova',\n",
    "    'BR': 'Broadway',\n",
    "    'BS': 'Brass Band',\n",
    "    'BW': 'Boogie-Woogie',\n",
    "    'CH': 'Spirituals',\n",
    "    'CI': 'Circus',\n",
    "    'CL': 'European Classical',\n",
    "    'CV': 'Folk Cape Verde',\n",
    "    'CY': 'Country',\n",
    "    'DI': 'Disco',\n",
    "    'DW': 'Doo-Wop',\n",
    "    'EJ': 'Early Jazz',\n",
    "    'EL': 'Easy Listening',\n",
    "    'FJ': 'Free Jazz',\n",
    "    'FK': 'Funk',\n",
    "    'FO': 'Folk American',\n",
    "    'FU': 'Fusion',\n",
    "    'GJ': 'General Jazz',\n",
    "    'GO': 'Gospel',\n",
    "    'HB': 'Hard Bop',\n",
    "    'HH': 'Hip Hop',\n",
    "    'HO': 'House',\n",
    "    'JB': 'Jump Blues',\n",
    "    'JF': 'Jazz Funk',\n",
    "    'LJ': 'Latin Jazz',\n",
    "    'LT': 'Latin',\n",
    "    'MB': 'Military Band',\n",
    "    'MS': 'Minstrelsy',\n",
    "    'MT': 'Motown',\n",
    "    'MU': 'Musical Theater',\n",
    "    'NW': 'New Wave',\n",
    "    'OP': 'Opera',\n",
    "    'PO': 'Pop',\n",
    "    'RB': 'Rhythm and Blues',\n",
    "    'RO': 'Rock',\n",
    "    'RT': 'Ragtime',\n",
    "    'SA': 'Salsa',\n",
    "    'SJ': 'Soul Jazz',\n",
    "    'SM': 'Smooth Jazz',\n",
    "    'SO': 'Soul',\n",
    "    'ST': 'Stride Piano',\n",
    "    'SW': 'Swing',\n",
    "    'VV': 'Vaudeville',\n",
    "    'WF': 'World Fusion'\n",
    "}\n",
    "\n",
    "## ensure the data reads as text\n",
    "data['Genre'] = data['Genre'].astype(str)\n",
    "\n",
    "## spell out the acronyms into a new column\n",
    "def spell_out(codes):\n",
    "    # Split codes by spaces and semicolons\n",
    "    codes_list = codes.replace(';', ' ').split()\n",
    "    return ' '.join([genre_mapping[code] for code in codes_list if code in genre_mapping])\n",
    "data['All Genres'] = data['Genre'].apply(spell_out)\n",
    "\n",
    "## print the number of unique combinations\n",
    "genre_combinations = data['All Genres'].nunique()\n",
    "print(f\"Unique genre combinations: {genre_combinations}\")"
   ]
  },
  {
   "cell_type": "code",
   "execution_count": 8,
   "metadata": {},
   "outputs": [
    {
     "name": "stdout",
     "output_type": "stream",
     "text": [
      "Total records for each genre:\n",
      "{'AC': 4, 'AF': 3, 'AJ': 33, 'AR': 9, 'BB': 2551, 'BG': 2, 'BL': 472, 'BN': 3, 'BR': 11, 'BS': 0, 'BW': 54, 'CH': 102, 'CI': 5, 'CL': 104, 'CV': 1, 'CY': 11, 'DI': 47, 'DW': 12, 'EJ': 1549, 'EL': 21, 'FJ': 1307, 'FK': 3, 'FO': 14, 'FU': 550, 'GJ': 699, 'GO': 229, 'HB': 1133, 'HH': 44, 'HO': 1, 'JB': 66, 'JF': 78, 'LJ': 5, 'LT': 2, 'MB': 1, 'MS': 21, 'MT': 1, 'MU': 7, 'NW': 11, 'OP': 54, 'PO': 291, 'RB': 743, 'RO': 165, 'RT': 79, 'SA': 7, 'SJ': 344, 'SM': 80, 'SO': 360, 'ST': 47, 'SW': 1858, 'VV': 25, 'WF': 3}\n"
     ]
    }
   ],
   "source": [
    "# Create new variables to represent each genre\n",
    "for code in genre_mapping.keys():\n",
    "    data[code] = data['Genre'].apply(lambda x: int(code in x))\n",
    "\n",
    "# verify the results\n",
    "genre_sums = {code: data[code].sum() for code in genre_mapping.keys()}\n",
    "print(\"Total records for each genre:\")\n",
    "print(genre_sums)"
   ]
  },
  {
   "cell_type": "code",
   "execution_count": 9,
   "metadata": {},
   "outputs": [
    {
     "data": {
      "text/plain": [
       "Index(['Arrival Country', 'Arrival State', 'Arrival County', 'Arrival City',\n",
       "       'Musician Name', 'Arrival', 'Depart', 'Depart Country', 'Depart State',\n",
       "       'Depart County', 'Depart City', 'Final Destination', 'Genre',\n",
       "       'Instrument', 'Free', 'Roots', 'Dyn', 'Public', 'Dynasty Name',\n",
       "       'MusicianID', 'SegmentID', 'All Genres', 'Afro-Cuban Jazz',\n",
       "       'African Jazz', 'Acid Jazz', 'Acid Rock', 'Bebop', 'Boogaloo', 'Blues',\n",
       "       'Bossa Nova', 'Broadway', 'Brass Band', 'Boogie-Woogie', 'Spirituals',\n",
       "       'Circus', 'European Classical', 'Folk Cape Verde', 'Country', 'Disco',\n",
       "       'Doo-Wop', 'Early Jazz', 'Easy Listening', 'Free Jazz', 'Funk',\n",
       "       'Folk American', 'Fusion', 'General Jazz', 'Gospel', 'Hard Bop',\n",
       "       'Hip Hop', 'House', 'Jump Blues', 'Jazz Funk', 'Latin Jazz', 'Latin',\n",
       "       'Military Band', 'Minstrelsy', 'Motown', 'Musical Theater', 'New Wave',\n",
       "       'Opera', 'Pop', 'Rhythm and Blues', 'Rock', 'Ragtime', 'Salsa',\n",
       "       'Soul Jazz', 'Smooth Jazz', 'Soul', 'Stride Piano', 'Swing',\n",
       "       'Vaudeville', 'World Fusion'],\n",
       "      dtype='object')"
      ]
     },
     "execution_count": 9,
     "metadata": {},
     "output_type": "execute_result"
    }
   ],
   "source": [
    "# rename the genre columns\n",
    "data.rename(columns=genre_mapping, inplace=True)\n",
    "data.columns"
   ]
  },
  {
   "cell_type": "code",
   "execution_count": 10,
   "metadata": {},
   "outputs": [
    {
     "data": {
      "text/html": [
       "<div>\n",
       "<style scoped>\n",
       "    .dataframe tbody tr th:only-of-type {\n",
       "        vertical-align: middle;\n",
       "    }\n",
       "\n",
       "    .dataframe tbody tr th {\n",
       "        vertical-align: top;\n",
       "    }\n",
       "\n",
       "    .dataframe thead th {\n",
       "        text-align: right;\n",
       "    }\n",
       "</style>\n",
       "<table border=\"1\" class=\"dataframe\">\n",
       "  <thead>\n",
       "    <tr style=\"text-align: right;\">\n",
       "      <th></th>\n",
       "      <th>Arrival Country</th>\n",
       "      <th>Arrival State</th>\n",
       "      <th>Arrival County</th>\n",
       "      <th>Arrival City</th>\n",
       "      <th>Musician Name</th>\n",
       "      <th>Arrival</th>\n",
       "      <th>Depart</th>\n",
       "      <th>Depart Country</th>\n",
       "      <th>Depart State</th>\n",
       "      <th>Depart County</th>\n",
       "      <th>...</th>\n",
       "      <th>Rock</th>\n",
       "      <th>Ragtime</th>\n",
       "      <th>Salsa</th>\n",
       "      <th>Soul Jazz</th>\n",
       "      <th>Smooth Jazz</th>\n",
       "      <th>Soul</th>\n",
       "      <th>Stride Piano</th>\n",
       "      <th>Swing</th>\n",
       "      <th>Vaudeville</th>\n",
       "      <th>World Fusion</th>\n",
       "    </tr>\n",
       "  </thead>\n",
       "  <tbody>\n",
       "    <tr>\n",
       "      <th>118</th>\n",
       "      <td>Canada</td>\n",
       "      <td>New Brunswick</td>\n",
       "      <td>NaN</td>\n",
       "      <td>NaN</td>\n",
       "      <td>NaN</td>\n",
       "      <td>1817</td>\n",
       "      <td>1871.0</td>\n",
       "      <td>Canada</td>\n",
       "      <td>Nova Scotia</td>\n",
       "      <td>Cumberland</td>\n",
       "      <td>...</td>\n",
       "      <td>0</td>\n",
       "      <td>0</td>\n",
       "      <td>0</td>\n",
       "      <td>0</td>\n",
       "      <td>0</td>\n",
       "      <td>0</td>\n",
       "      <td>0</td>\n",
       "      <td>0</td>\n",
       "      <td>0</td>\n",
       "      <td>0</td>\n",
       "    </tr>\n",
       "    <tr>\n",
       "      <th>1764</th>\n",
       "      <td>United States</td>\n",
       "      <td>Georgia</td>\n",
       "      <td>Richmond</td>\n",
       "      <td>NaN</td>\n",
       "      <td>Morgan, Lee</td>\n",
       "      <td>1829</td>\n",
       "      <td>1926.0</td>\n",
       "      <td>United States</td>\n",
       "      <td>Pennsylvania</td>\n",
       "      <td>Philadelphia</td>\n",
       "      <td>...</td>\n",
       "      <td>0</td>\n",
       "      <td>0</td>\n",
       "      <td>0</td>\n",
       "      <td>0</td>\n",
       "      <td>0</td>\n",
       "      <td>0</td>\n",
       "      <td>0</td>\n",
       "      <td>1</td>\n",
       "      <td>0</td>\n",
       "      <td>0</td>\n",
       "    </tr>\n",
       "    <tr>\n",
       "      <th>5877</th>\n",
       "      <td>United States</td>\n",
       "      <td>South Carolina</td>\n",
       "      <td>Greenwood</td>\n",
       "      <td>Callison</td>\n",
       "      <td>Morgan, Lee</td>\n",
       "      <td>1870</td>\n",
       "      <td>1910.0</td>\n",
       "      <td>United States</td>\n",
       "      <td>South Carolina</td>\n",
       "      <td>Greenwood</td>\n",
       "      <td>...</td>\n",
       "      <td>0</td>\n",
       "      <td>0</td>\n",
       "      <td>0</td>\n",
       "      <td>0</td>\n",
       "      <td>0</td>\n",
       "      <td>0</td>\n",
       "      <td>0</td>\n",
       "      <td>1</td>\n",
       "      <td>0</td>\n",
       "      <td>0</td>\n",
       "    </tr>\n",
       "    <tr>\n",
       "      <th>5880</th>\n",
       "      <td>United States</td>\n",
       "      <td>South Carolina</td>\n",
       "      <td>Greenwood</td>\n",
       "      <td>Phoenix</td>\n",
       "      <td>Morgan, Lee</td>\n",
       "      <td>1910</td>\n",
       "      <td>1920.0</td>\n",
       "      <td>United States</td>\n",
       "      <td>South Carolina</td>\n",
       "      <td>Greenwood</td>\n",
       "      <td>...</td>\n",
       "      <td>0</td>\n",
       "      <td>0</td>\n",
       "      <td>0</td>\n",
       "      <td>0</td>\n",
       "      <td>0</td>\n",
       "      <td>0</td>\n",
       "      <td>0</td>\n",
       "      <td>1</td>\n",
       "      <td>0</td>\n",
       "      <td>0</td>\n",
       "    </tr>\n",
       "    <tr>\n",
       "      <th>5878</th>\n",
       "      <td>United States</td>\n",
       "      <td>South Carolina</td>\n",
       "      <td>Greenwood</td>\n",
       "      <td>Greenwood</td>\n",
       "      <td>Morgan, Lee</td>\n",
       "      <td>1920</td>\n",
       "      <td>1926.0</td>\n",
       "      <td>United States</td>\n",
       "      <td>Pennsylvania</td>\n",
       "      <td>Philadelphia</td>\n",
       "      <td>...</td>\n",
       "      <td>0</td>\n",
       "      <td>0</td>\n",
       "      <td>0</td>\n",
       "      <td>0</td>\n",
       "      <td>0</td>\n",
       "      <td>0</td>\n",
       "      <td>0</td>\n",
       "      <td>1</td>\n",
       "      <td>0</td>\n",
       "      <td>0</td>\n",
       "    </tr>\n",
       "    <tr>\n",
       "      <th>...</th>\n",
       "      <td>...</td>\n",
       "      <td>...</td>\n",
       "      <td>...</td>\n",
       "      <td>...</td>\n",
       "      <td>...</td>\n",
       "      <td>...</td>\n",
       "      <td>...</td>\n",
       "      <td>...</td>\n",
       "      <td>...</td>\n",
       "      <td>...</td>\n",
       "      <td>...</td>\n",
       "      <td>...</td>\n",
       "      <td>...</td>\n",
       "      <td>...</td>\n",
       "      <td>...</td>\n",
       "      <td>...</td>\n",
       "      <td>...</td>\n",
       "      <td>...</td>\n",
       "      <td>...</td>\n",
       "      <td>...</td>\n",
       "      <td>...</td>\n",
       "    </tr>\n",
       "    <tr>\n",
       "      <th>7551</th>\n",
       "      <td>United States</td>\n",
       "      <td>Wisconsin</td>\n",
       "      <td>Milwaukee</td>\n",
       "      <td>Milwaukee</td>\n",
       "      <td>Morgan, Frank</td>\n",
       "      <td>1911</td>\n",
       "      <td>1932.0</td>\n",
       "      <td>United States</td>\n",
       "      <td>Minnesota</td>\n",
       "      <td>Hennepin</td>\n",
       "      <td>...</td>\n",
       "      <td>0</td>\n",
       "      <td>0</td>\n",
       "      <td>0</td>\n",
       "      <td>0</td>\n",
       "      <td>0</td>\n",
       "      <td>0</td>\n",
       "      <td>0</td>\n",
       "      <td>0</td>\n",
       "      <td>0</td>\n",
       "      <td>0</td>\n",
       "    </tr>\n",
       "    <tr>\n",
       "      <th>2782</th>\n",
       "      <td>United States</td>\n",
       "      <td>Louisiana</td>\n",
       "      <td>Plaquemines</td>\n",
       "      <td>NaN</td>\n",
       "      <td>Morgan, Isaiah</td>\n",
       "      <td>1836</td>\n",
       "      <td>1887.0</td>\n",
       "      <td>United States</td>\n",
       "      <td>Louisiana</td>\n",
       "      <td>Plaquemines</td>\n",
       "      <td>...</td>\n",
       "      <td>0</td>\n",
       "      <td>0</td>\n",
       "      <td>0</td>\n",
       "      <td>0</td>\n",
       "      <td>0</td>\n",
       "      <td>0</td>\n",
       "      <td>0</td>\n",
       "      <td>0</td>\n",
       "      <td>0</td>\n",
       "      <td>0</td>\n",
       "    </tr>\n",
       "    <tr>\n",
       "      <th>2789</th>\n",
       "      <td>United States</td>\n",
       "      <td>Louisiana</td>\n",
       "      <td>Plaquemines</td>\n",
       "      <td>Bertrandville</td>\n",
       "      <td>Morgan, Isaiah</td>\n",
       "      <td>1887</td>\n",
       "      <td>1900.0</td>\n",
       "      <td>United States</td>\n",
       "      <td>Florida</td>\n",
       "      <td>Escambia</td>\n",
       "      <td>...</td>\n",
       "      <td>0</td>\n",
       "      <td>0</td>\n",
       "      <td>0</td>\n",
       "      <td>0</td>\n",
       "      <td>0</td>\n",
       "      <td>0</td>\n",
       "      <td>0</td>\n",
       "      <td>0</td>\n",
       "      <td>0</td>\n",
       "      <td>0</td>\n",
       "    </tr>\n",
       "    <tr>\n",
       "      <th>1205</th>\n",
       "      <td>United States</td>\n",
       "      <td>Florida</td>\n",
       "      <td>Escambia</td>\n",
       "      <td>Pensacola</td>\n",
       "      <td>Morgan, Isaiah</td>\n",
       "      <td>1900</td>\n",
       "      <td>1913.0</td>\n",
       "      <td>United States</td>\n",
       "      <td>Louisiana</td>\n",
       "      <td>Plaquemines</td>\n",
       "      <td>...</td>\n",
       "      <td>0</td>\n",
       "      <td>0</td>\n",
       "      <td>0</td>\n",
       "      <td>0</td>\n",
       "      <td>0</td>\n",
       "      <td>0</td>\n",
       "      <td>0</td>\n",
       "      <td>0</td>\n",
       "      <td>0</td>\n",
       "      <td>0</td>\n",
       "    </tr>\n",
       "    <tr>\n",
       "      <th>2783</th>\n",
       "      <td>United States</td>\n",
       "      <td>Louisiana</td>\n",
       "      <td>Plaquemines</td>\n",
       "      <td>NaN</td>\n",
       "      <td>Morgan, Isaiah</td>\n",
       "      <td>1913</td>\n",
       "      <td>1922.0</td>\n",
       "      <td>United States</td>\n",
       "      <td>Louisiana</td>\n",
       "      <td>Orleans</td>\n",
       "      <td>...</td>\n",
       "      <td>0</td>\n",
       "      <td>0</td>\n",
       "      <td>0</td>\n",
       "      <td>0</td>\n",
       "      <td>0</td>\n",
       "      <td>0</td>\n",
       "      <td>0</td>\n",
       "      <td>0</td>\n",
       "      <td>0</td>\n",
       "      <td>0</td>\n",
       "    </tr>\n",
       "  </tbody>\n",
       "</table>\n",
       "<p>7559 rows × 73 columns</p>\n",
       "</div>"
      ],
      "text/plain": [
       "     Arrival Country   Arrival State Arrival County   Arrival City  \\\n",
       "118           Canada   New Brunswick            NaN            NaN   \n",
       "1764   United States         Georgia       Richmond            NaN   \n",
       "5877   United States  South Carolina      Greenwood       Callison   \n",
       "5880   United States  South Carolina      Greenwood        Phoenix   \n",
       "5878   United States  South Carolina      Greenwood      Greenwood   \n",
       "...              ...             ...            ...            ...   \n",
       "7551   United States       Wisconsin      Milwaukee      Milwaukee   \n",
       "2782   United States       Louisiana    Plaquemines            NaN   \n",
       "2789   United States       Louisiana    Plaquemines  Bertrandville   \n",
       "1205   United States         Florida       Escambia      Pensacola   \n",
       "2783   United States       Louisiana    Plaquemines            NaN   \n",
       "\n",
       "       Musician Name  Arrival  Depart Depart Country    Depart State  \\\n",
       "118              NaN     1817  1871.0         Canada     Nova Scotia   \n",
       "1764     Morgan, Lee     1829  1926.0  United States    Pennsylvania   \n",
       "5877     Morgan, Lee     1870  1910.0  United States  South Carolina   \n",
       "5880     Morgan, Lee     1910  1920.0  United States  South Carolina   \n",
       "5878     Morgan, Lee     1920  1926.0  United States    Pennsylvania   \n",
       "...              ...      ...     ...            ...             ...   \n",
       "7551   Morgan, Frank     1911  1932.0  United States       Minnesota   \n",
       "2782  Morgan, Isaiah     1836  1887.0  United States       Louisiana   \n",
       "2789  Morgan, Isaiah     1887  1900.0  United States         Florida   \n",
       "1205  Morgan, Isaiah     1900  1913.0  United States       Louisiana   \n",
       "2783  Morgan, Isaiah     1913  1922.0  United States       Louisiana   \n",
       "\n",
       "     Depart County  ... Rock Ragtime Salsa Soul Jazz Smooth Jazz Soul  \\\n",
       "118     Cumberland  ...    0       0     0         0           0    0   \n",
       "1764  Philadelphia  ...    0       0     0         0           0    0   \n",
       "5877     Greenwood  ...    0       0     0         0           0    0   \n",
       "5880     Greenwood  ...    0       0     0         0           0    0   \n",
       "5878  Philadelphia  ...    0       0     0         0           0    0   \n",
       "...            ...  ...  ...     ...   ...       ...         ...  ...   \n",
       "7551      Hennepin  ...    0       0     0         0           0    0   \n",
       "2782   Plaquemines  ...    0       0     0         0           0    0   \n",
       "2789      Escambia  ...    0       0     0         0           0    0   \n",
       "1205   Plaquemines  ...    0       0     0         0           0    0   \n",
       "2783       Orleans  ...    0       0     0         0           0    0   \n",
       "\n",
       "     Stride Piano Swing Vaudeville  World Fusion  \n",
       "118             0     0          0             0  \n",
       "1764            0     1          0             0  \n",
       "5877            0     1          0             0  \n",
       "5880            0     1          0             0  \n",
       "5878            0     1          0             0  \n",
       "...           ...   ...        ...           ...  \n",
       "7551            0     0          0             0  \n",
       "2782            0     0          0             0  \n",
       "2789            0     0          0             0  \n",
       "1205            0     0          0             0  \n",
       "2783            0     0          0             0  \n",
       "\n",
       "[7559 rows x 73 columns]"
      ]
     },
     "execution_count": 10,
     "metadata": {},
     "output_type": "execute_result"
    }
   ],
   "source": [
    "# sort and clean data\n",
    "data = data.sort_values(by='SegmentID')\n",
    "data"
   ]
  },
  {
   "cell_type": "code",
   "execution_count": 11,
   "metadata": {},
   "outputs": [
    {
     "name": "stdout",
     "output_type": "stream",
     "text": [
      "Saved to C:\\Users\\johnl\\My Drive (jlauerma@pratt.edu)\\Research\\Music and Migration\n"
     ]
    }
   ],
   "source": [
    "# save as a CSV\n",
    "data.to_csv(os.path.join(default_folder,\"data_cleaned.csv\"), index=False)\n",
    "print(f\"Saved to {default_folder}\")"
   ]
  },
  {
   "cell_type": "markdown",
   "metadata": {},
   "source": [
    "### Mapping the data\n",
    "The next step is to geocode the tabular data into `origins` points, `destinations` points, `paths` lines (which show an individual migration path), and `lifepaths` lines (which connect all of a musician's individual migration paths into one line). The workflow is designed to use the [ESRI World Geocoding Serivce](https://www.arcgis.com/home/item.html?id=305f2e55e67f4389bef269669fc2e284). "
   ]
  },
  {
   "cell_type": "code",
   "execution_count": 12,
   "metadata": {},
   "outputs": [
    {
     "name": "stdout",
     "output_type": "stream",
     "text": [
      "loaded data to C:\\Users\\johnl\\My Drive (jlauerma@pratt.edu)\\Research\\Music and Migration\\MusicMigration.gdb\n"
     ]
    }
   ],
   "source": [
    "# Load the CSV to geodatabase \n",
    "csv = os.path.join(default_folder, \"data_cleaned.csv\")\n",
    "arcpy.conversion.TableToGeodatabase(csv, default_gdb)\n",
    "print(f\"loaded data to {default_gdb}\")"
   ]
  },
  {
   "cell_type": "code",
   "execution_count": 13,
   "metadata": {},
   "outputs": [
    {
     "name": "stdout",
     "output_type": "stream",
     "text": [
      "geocoded the origin points\n"
     ]
    }
   ],
   "source": [
    "#geocode origins\n",
    "arcpy.geocoding.GeocodeAddresses(\n",
    "    in_table=os.path.join(default_gdb, \"data_cleaned\"),\n",
    "    address_locator=\"https://geocode.arcgis.com/arcgis/rest/services/World/GeocodeServer/Esri World Geocoder\",\n",
    "    in_address_fields=\"'Address or Place' <None> VISIBLE NONE;Address2 <None> VISIBLE NONE;Address3 <None> VISIBLE NONE;Neighborhood <None> VISIBLE NONE;City Depart_City VISIBLE NONE;County Depart_County VISIBLE NONE;State Depart_State VISIBLE NONE;ZIP <None> VISIBLE NONE;ZIP4 <None> VISIBLE NONE;Country Depart_Country VISIBLE NONE\",\n",
    "    out_feature_class=os.path.join(default_gdb, \"origins\"),\n",
    "    out_relationship_type=\"STATIC\",\n",
    "    country=\"AFG;ALB;DZA;ASM;AND;AGO;AIA;ATA;ATG;ARG;ARM;ABW;AUS;AUT;AZE;BHS;BHR;BGD;BRB;BLR;BEL;BLZ;BEN;BMU;BTN;BOL;BES;BIH;BWA;BVT;BRA;IOT;VGB;BRN;BGR;BFA;BDI;CPV;KHM;CMR;CAN;CYM;CAF;TCD;CHL;CHN;CXR;CCK;COL;COM;COK;CRI;HRV;CUB;CUW;CYP;CZE;CIV;COD;DNK;DJI;DMA;DOM;ECU;EGY;SLV;GNQ;ERI;EST;SWZ;ETH;EUR;FLK;FRO;FSM;FJI;FIN;FRA;GUF;PYF;ATF;GAB;GMB;GEO;DEU;GHA;GIB;GRC;GRL;GRD;GLP;GUM;GTM;GGY;GIN;GNB;GUY;HTI;HMD;HND;HKG;HUN;ISL;IND;IDN;IRN;IRQ;IRL;IMN;ISR;ITA;JAM;JPN;JEY;JOR;KAZ;KEN;KIR;KWT;KGZ;LAO;LVA;LBN;LSO;LBR;LBY;LIE;LTU;LUX;MAC;MDG;MWI;MYS;MDV;MLI;MLT;MHL;MTQ;MRT;MUS;MYT;MEX;MDA;MCO;MNG;MNE;MSR;MAR;MOZ;MMR;NAM;NRU;NPL;NLD;NCL;NZL;NIC;NER;NGA;NIU;NFK;PRK;MKD;MNP;NOR;OMN;PAK;PLW;PSE;PAN;PNG;PRY;PER;PHL;PCN;POL;PRT;PRI;QAT;COG;REU;ROU;RUS;RWA;BLM;SHN;KNA;LCA;MAF;SPM;VCT;WSM;SMR;STP;SAU;SEN;SRB;SYC;SLE;SGP;SXM;SVK;SVN;SLB;SOM;ZAF;SGS;KOR;SSD;ESP;LKA;SDN;SUR;SJM;SWE;CHE;SYR;TWN;TJK;TZA;THA;TLS;TGO;TKL;TON;TTO;TUN;TKM;TCA;TUV;TUR;VIR;UGA;UKR;ARE;GBR;USA;UMI;URY;UZB;VUT;VAT;VEN;VNM;WLF;ESH;YEM;ZMB;ZWE\",\n",
    "    location_type=\"ADDRESS_LOCATION\",\n",
    "    category=None,\n",
    "    output_fields=\"LOCATION_ONLY\"\n",
    ")\n",
    "print(\"geocoded the origin points\")"
   ]
  },
  {
   "cell_type": "code",
   "execution_count": 14,
   "metadata": {
    "scrolled": true
   },
   "outputs": [
    {
     "name": "stdout",
     "output_type": "stream",
     "text": [
      "geocoded the destination points\n"
     ]
    }
   ],
   "source": [
    "#geocode destinations\n",
    "arcpy.geocoding.GeocodeAddresses(\n",
    "    in_table=os.path.join(default_gdb, \"data_cleaned\"),\n",
    "    address_locator=\"https://geocode.arcgis.com/arcgis/rest/services/World/GeocodeServer/Esri World Geocoder\",\n",
    "    in_address_fields=\"'Address or Place' <None> VISIBLE NONE;Address2 <None> VISIBLE NONE;Address3 <None> VISIBLE NONE;Neighborhood <None> VISIBLE NONE;City Arrival_City VISIBLE NONE;County Arrival_County VISIBLE NONE;State Arrival_State VISIBLE NONE;ZIP <None> VISIBLE NONE;ZIP4 <None> VISIBLE NONE;Country Arrival_Country VISIBLE NONE\",\n",
    "    out_feature_class=os.path.join(default_gdb, \"destinations\"),\n",
    "    out_relationship_type=\"STATIC\",\n",
    "    country=\"AFG;ALB;DZA;ASM;AND;AGO;AIA;ATA;ATG;ARG;ARM;ABW;AUS;AUT;AZE;BHS;BHR;BGD;BRB;BLR;BEL;BLZ;BEN;BMU;BTN;BOL;BES;BIH;BWA;BVT;BRA;IOT;VGB;BRN;BGR;BFA;BDI;CPV;KHM;CMR;CAN;CYM;CAF;TCD;CHL;CHN;CXR;CCK;COL;COM;COK;CRI;HRV;CUB;CUW;CYP;CZE;CIV;COD;DNK;DJI;DMA;DOM;ECU;EGY;SLV;GNQ;ERI;EST;SWZ;ETH;EUR;FLK;FRO;FSM;FJI;FIN;FRA;GUF;PYF;ATF;GAB;GMB;GEO;DEU;GHA;GIB;GRC;GRL;GRD;GLP;GUM;GTM;GGY;GIN;GNB;GUY;HTI;HMD;HND;HKG;HUN;ISL;IND;IDN;IRN;IRQ;IRL;IMN;ISR;ITA;JAM;JPN;JEY;JOR;KAZ;KEN;KIR;KWT;KGZ;LAO;LVA;LBN;LSO;LBR;LBY;LIE;LTU;LUX;MAC;MDG;MWI;MYS;MDV;MLI;MLT;MHL;MTQ;MRT;MUS;MYT;MEX;MDA;MCO;MNG;MNE;MSR;MAR;MOZ;MMR;NAM;NRU;NPL;NLD;NCL;NZL;NIC;NER;NGA;NIU;NFK;PRK;MKD;MNP;NOR;OMN;PAK;PLW;PSE;PAN;PNG;PRY;PER;PHL;PCN;POL;PRT;PRI;QAT;COG;REU;ROU;RUS;RWA;BLM;SHN;KNA;LCA;MAF;SPM;VCT;WSM;SMR;STP;SAU;SEN;SRB;SYC;SLE;SGP;SXM;SVK;SVN;SLB;SOM;ZAF;SGS;KOR;SSD;ESP;LKA;SDN;SUR;SJM;SWE;CHE;SYR;TWN;TJK;TZA;THA;TLS;TGO;TKL;TON;TTO;TUN;TKM;TCA;TUV;TUR;VIR;UGA;UKR;ARE;GBR;USA;UMI;URY;UZB;VUT;VAT;VEN;VNM;WLF;ESH;YEM;ZMB;ZWE\",\n",
    "    location_type=\"ADDRESS_LOCATION\",\n",
    "    category=None,\n",
    "    output_fields=\"LOCATION_ONLY\"\n",
    ")\n",
    "print(\"geocoded the destination points\")"
   ]
  },
  {
   "cell_type": "code",
   "execution_count": 15,
   "metadata": {},
   "outputs": [
    {
     "name": "stdout",
     "output_type": "stream",
     "text": [
      "created a point layer with both origins and destinations\n"
     ]
    }
   ],
   "source": [
    "#merge the layers into one point layer\n",
    "##define the new layers\n",
    "origins_layer = os.path.join(default_gdb, \"origins\")\n",
    "destinations_layer = os.path.join(default_gdb, \"destinations\")\n",
    "\n",
    "## Add a LocationType field in origins\n",
    "arcpy.management.AddField(origins_layer, \"LocationType\", \"TEXT\")\n",
    "arcpy.management.CalculateField(origins_layer, \"LocationType\", '\"Origin\"', \"PYTHON3\")\n",
    "\n",
    "##Calculate the LocationType field for origins and destinations\n",
    "arcpy.management.AddField(destinations_layer, \"LocationType\", \"TEXT\")\n",
    "arcpy.management.CalculateField(destinations_layer, \"LocationType\", '\"Destination\"', \"PYTHON3\")\n",
    "\n",
    "##merge\n",
    "arcpy.management.Merge(\n",
    "    inputs=\"origins;destinations\",\n",
    "    output=\"origins_destinations_merged\",\n",
    "    field_mappings=None,\n",
    "    add_source=\"NO_SOURCE_INFO\",\n",
    "    field_match_mode=\"AUTOMATIC\"\n",
    ")\n",
    "\n",
    "print(\"created a point layer with both origins and destinations\")"
   ]
  },
  {
   "cell_type": "code",
   "execution_count": 16,
   "metadata": {},
   "outputs": [
    {
     "name": "stdout",
     "output_type": "stream",
     "text": [
      "created a paths line layer\n"
     ]
    }
   ],
   "source": [
    "#create path segments between origins and destinations\n",
    "with arcpy.EnvManager(qualifiedFieldNames=\"UNQUALIFIED\"):\n",
    "    arcpy.management.PointsToLine(\n",
    "        Input_Features=\"origins_destinations_merged\",\n",
    "        Output_Feature_Class=\"paths\",\n",
    "        Line_Field=\"SegmentID\",\n",
    "        Sort_Field=None,\n",
    "        Close_Line=\"NO_CLOSE\",\n",
    "        Line_Construction_Method=\"TWO_POINT\",\n",
    "        Attribute_Source=\"START\",\n",
    "        Transfer_Fields=\"OBJECTID;Arrival_Country;Arrival_State;Arrival_County;Arrival_City;Musician_Name;Arrival;Depart;Depart_Country;Depart_State;Depart_County;Depart_City;Final_Destination;Genre;Instrument;Free;Roots;Dyn;Public;Dynasty_Name;MusicianID;SegmentID;All_Genres;Afro_Cuban_Jazz;African_Jazz;Acid_Jazz;Acid_Rock;Bebop;Boogaloo;Blues;Bossa_Nova;Broadway;Brass_Band;Boogie_Woogie;Spirituals;Circus;European_Classical;Folk_Cape_Verde;Country;Disco;Doo_Wop;Early_Jazz;Easy_Listening;Free_Jazz;Funk;Folk_American;Fusion;General_Jazz;Gospel;Hard_Bop;Hip_Hop;House;Jump_Blues;Jazz_Funk;Latin_Jazz;Latin;Military_Band;Minstrelsy;Motown;Musical_Theater;New_Wave;Opera;Pop;Rhythm_and_Blues;Rock;Ragtime;Salsa;Soul_Jazz;Smooth_Jazz;Soul;Stride_Piano;Swing;Vaudeville;World_Fusion;LocationType\"\n",
    "    )\n",
    "    \n",
    "print(\"created a paths line layer\")"
   ]
  },
  {
   "cell_type": "code",
   "execution_count": 17,
   "metadata": {},
   "outputs": [
    {
     "name": "stdout",
     "output_type": "stream",
     "text": [
      "Skipped START_OBJECTID because OBJECTID already exists.\n",
      "Skipped START_SegmentID because SegmentID already exists.\n",
      "Field names and aliases updated.\n"
     ]
    }
   ],
   "source": [
    "# remove a naming convention that the PointsToLine tool adds...even though it has parameters that should stop it from doing that...\n",
    "\n",
    "# List the field names\n",
    "layer_name = \"paths\"\n",
    "existing_fields = [field.name for field in arcpy.ListFields(layer_name)]\n",
    "\n",
    "# Loop through fields. Change names and aliases.\n",
    "for field in arcpy.ListFields(layer_name):\n",
    "    if field.name.startswith(\"START_\"):\n",
    "        new_name = field.name.replace(\"START_\", \"\")\n",
    "        new_alias = field.aliasName.replace(\"START_\", \"\") if field.aliasName.startswith(\"START_\") else field.aliasName\n",
    "        \n",
    "        if new_name not in existing_fields:  # Avoid an error related to renaming existing fields\n",
    "            arcpy.management.AlterField(layer_name, field.name, new_name, new_alias)\n",
    "        else:\n",
    "            print(f\"Skipped {field.name} because {new_name} already exists.\")\n",
    "\n",
    "print(\"Field names and aliases updated.\")"
   ]
  },
  {
   "cell_type": "code",
   "execution_count": 18,
   "metadata": {},
   "outputs": [
    {
     "name": "stdout",
     "output_type": "stream",
     "text": [
      "created lifepaths line layer\n"
     ]
    }
   ],
   "source": [
    "#create path segements to follow life journeys of musicians\n",
    "with arcpy.EnvManager(outputCoordinateSystem='GEOGCS[\"GCS_WGS_1984\",DATUM[\"D_WGS_1984\",SPHEROID[\"WGS_1984\",6378137.0,298.257223563]],PRIMEM[\"Greenwich\",0.0],UNIT[\"Degree\",0.0174532925199433]]', qualifiedFieldNames=\"UNQUALIFIED\"):\n",
    "    arcpy.analysis.PairwiseDissolve(\n",
    "        in_features=os.path.join(default_gdb, \"paths\"),\n",
    "        out_feature_class=os.path.join(default_gdb, \"life_paths\"),\n",
    "        dissolve_field=\"MusicianID\",\n",
    "        statistics_fields=\"Musician_Name FIRST;Final_Destination FIRST;Genre FIRST;All_Genres FIRST; Instrument FIRST;Free FIRST;Roots FIRST;Dyn FIRST;Dynasty_Name FIRST\",\n",
    "        multi_part=\"MULTI_PART\",\n",
    "        concatenation_separator=\"\"\n",
    "    ) \n",
    "print(\"created lifepaths line layer\")"
   ]
  },
  {
   "cell_type": "code",
   "execution_count": null,
   "metadata": {},
   "outputs": [],
   "source": [
    "# ditto for this line layer, to which ArcGIS appends \"FIRST_\" to every field\n",
    "# remove a naming convention that the PointsToLine tool adds...even though it has parameters that should stop it from doing that...\n",
    "\n",
    "# List the field names\n",
    "layer_name = \"life_paths\"\n",
    "existing_fields = [field.name for field in arcpy.ListFields(layer_name)]\n",
    "\n",
    "# Loop through fields. Change names and aliases.\n",
    "for field in arcpy.ListFields(layer_name):\n",
    "    if field.name.startswith(\"FIRST_\"):\n",
    "        new_name = field.name.replace(\"FIRST_\", \"\")\n",
    "        new_alias = field.aliasName.replace(\"FIRST_\", \"\") if field.aliasName.startswith(\"FIRST_\") else field.aliasName\n",
    "        \n",
    "        if new_name not in existing_fields:  # Avoid an error related to renaming existing fields\n",
    "            arcpy.management.AlterField(layer_name, field.name, new_name, new_alias)\n",
    "        else:\n",
    "            print(f\"Skipped {field.name} because {new_name} already exists.\")\n",
    "\n",
    "print(\"Field names and aliases updated.\")"
   ]
  },
  {
   "cell_type": "code",
   "execution_count": 20,
   "metadata": {},
   "outputs": [
    {
     "name": "stdout",
     "output_type": "stream",
     "text": [
      "ranked the origins point layer\n",
      "ranked the destinations point layer\n"
     ]
    }
   ],
   "source": [
    "#rank origins & destinations by path counts\n",
    "##origins\n",
    "arcpy.analysis.SpatialJoin(\n",
    "    target_features=\"origins\",\n",
    "    join_features=\"paths\",\n",
    "    out_feature_class=\"origins_rankedbypaths\",\n",
    "    join_operation=\"JOIN_ONE_TO_ONE\",\n",
    "    join_type=\"KEEP_ALL\",\n",
    "    field_mapping='Arrival_Country \"Arrival Country\" true true false 8000 Text 0 0,First,#,origins,Arrival_Country,0,7999;Arrival_State \"Arrival State\" true true false 8000 Text 0 0,First,#,origins,Arrival_State,0,7999;Arrival_County \"Arrival County\" true true false 8000 Text 0 0,First,#,origins,Arrival_County,0,7999;Arrival_City \"Arrival City\" true true false 8000 Text 0 0,First,#,origins,Arrival_City,0,7999;Musician_Name \"Musician Name\" true true false 8000 Text 0 0,First,#,origins,Musician_Name,0,7999;Arrival \"Arrival\" true true false 4 Long 0 0,First,#,origins,Arrival,-1,-1;Depart \"Depart\" true true false 8 Double 0 0,First,#,origins,Depart,-1,-1;Depart_Country \"Depart Country\" true true false 8000 Text 0 0,First,#,origins,Depart_Country,0,7999;Depart_State \"Depart State\" true true false 8000 Text 0 0,First,#,origins,Depart_State,0,7999;Depart_County \"Depart County\" true true false 8000 Text 0 0,First,#,origins,Depart_County,0,7999;Depart_City \"Depart City\" true true false 8000 Text 0 0,First,#,origins,Depart_City,0,7999;Final_Destination \"Final Destination\" true true false 8000 Text 0 0,First,#,origins,Final_Destination,0,7999;Genre \"Genre\" true true false 8000 Text 0 0,First,#,origins,Genre,0,7999;Instrument \"Instrument\" true true false 8000 Text 0 0,First,#,origins,Instrument,0,7999;Free \"Free\" true true false 8000 Text 0 0,First,#,origins,Free,0,7999;Roots \"Roots\" true true false 8000 Text 0 0,First,#,origins,Roots,0,7999;Dyn \"Dyn\" true true false 8000 Text 0 0,First,#,origins,Dyn,0,7999;Public \"Public\" true true false 8000 Text 0 0,First,#,origins,Public,0,7999;Dynasty_Name \"Dynasty Name\" true true false 8000 Text 0 0,First,#,origins,Dynasty_Name,0,7999;MusicianID \"MusicianID\" true true false 4 Long 0 0,First,#,origins,MusicianID,-1,-1;SegmentID \"SegmentID\" true true false 8000 Text 0 0,First,#,origins,SegmentID,0,7999;All_Genres \"All Genres\" true true false 8000 Text 0 0,First,#,origins,All_Genres,0,7999;Afro_Cuban_Jazz \"Afro-Cuban Jazz\" true true false 4 Long 0 0,First,#,origins,Afro_Cuban_Jazz,-1,-1;African_Jazz \"African Jazz\" true true false 4 Long 0 0,First,#,origins,African_Jazz,-1,-1;Acid_Jazz \"Acid Jazz\" true true false 4 Long 0 0,First,#,origins,Acid_Jazz,-1,-1;Acid_Rock \"Acid Rock\" true true false 4 Long 0 0,First,#,origins,Acid_Rock,-1,-1;Bebop \"Bebop\" true true false 4 Long 0 0,First,#,origins,Bebop,-1,-1;Boogaloo \"Boogaloo\" true true false 4 Long 0 0,First,#,origins,Boogaloo,-1,-1;Blues \"Blues\" true true false 4 Long 0 0,First,#,origins,Blues,-1,-1;Bossa_Nova \"Bossa Nova\" true true false 4 Long 0 0,First,#,origins,Bossa_Nova,-1,-1;Broadway \"Broadway\" true true false 4 Long 0 0,First,#,origins,Broadway,-1,-1;Brass_Band \"Brass Band\" true true false 4 Long 0 0,First,#,origins,Brass_Band,-1,-1;Boogie_Woogie \"Boogie-Woogie\" true true false 4 Long 0 0,First,#,origins,Boogie_Woogie,-1,-1;Spirituals \"Spirituals\" true true false 4 Long 0 0,First,#,origins,Spirituals,-1,-1;Circus \"Circus\" true true false 4 Long 0 0,First,#,origins,Circus,-1,-1;European_Classical \"European Classical\" true true false 4 Long 0 0,First,#,origins,European_Classical,-1,-1;Folk_Cape_Verde \"Folk Cape Verde\" true true false 4 Long 0 0,First,#,origins,Folk_Cape_Verde,-1,-1;Country \"Country\" true true false 4 Long 0 0,First,#,origins,Country,-1,-1;Disco \"Disco\" true true false 4 Long 0 0,First,#,origins,Disco,-1,-1;Doo_Wop \"Doo-Wop\" true true false 4 Long 0 0,First,#,origins,Doo_Wop,-1,-1;Early_Jazz \"Early Jazz\" true true false 4 Long 0 0,First,#,origins,Early_Jazz,-1,-1;Easy_Listening \"Easy Listening\" true true false 4 Long 0 0,First,#,origins,Easy_Listening,-1,-1;Free_Jazz \"Free Jazz\" true true false 4 Long 0 0,First,#,origins,Free_Jazz,-1,-1;Funk \"Funk\" true true false 4 Long 0 0,First,#,origins,Funk,-1,-1;Folk_American \"Folk American\" true true false 4 Long 0 0,First,#,origins,Folk_American,-1,-1;Fusion \"Fusion\" true true false 4 Long 0 0,First,#,origins,Fusion,-1,-1;General_Jazz \"General Jazz\" true true false 4 Long 0 0,First,#,origins,General_Jazz,-1,-1;Gospel \"Gospel\" true true false 4 Long 0 0,First,#,origins,Gospel,-1,-1;Hard_Bop \"Hard Bop\" true true false 4 Long 0 0,First,#,origins,Hard_Bop,-1,-1;Hip_Hop \"Hip Hop\" true true false 4 Long 0 0,First,#,origins,Hip_Hop,-1,-1;House \"House\" true true false 4 Long 0 0,First,#,origins,House,-1,-1;Jump_Blues \"Jump Blues\" true true false 4 Long 0 0,First,#,origins,Jump_Blues,-1,-1;Jazz_Funk \"Jazz Funk\" true true false 4 Long 0 0,First,#,origins,Jazz_Funk,-1,-1;Latin_Jazz \"Latin Jazz\" true true false 4 Long 0 0,First,#,origins,Latin_Jazz,-1,-1;Latin \"Latin\" true true false 4 Long 0 0,First,#,origins,Latin,-1,-1;Military_Band \"Military Band\" true true false 4 Long 0 0,First,#,origins,Military_Band,-1,-1;Minstrelsy \"Minstrelsy\" true true false 4 Long 0 0,First,#,origins,Minstrelsy,-1,-1;Motown \"Motown\" true true false 4 Long 0 0,First,#,origins,Motown,-1,-1;Musical_Theater \"Musical Theater\" true true false 4 Long 0 0,First,#,origins,Musical_Theater,-1,-1;New_Wave \"New Wave\" true true false 4 Long 0 0,First,#,origins,New_Wave,-1,-1;Opera \"Opera\" true true false 4 Long 0 0,First,#,origins,Opera,-1,-1;Pop \"Pop\" true true false 4 Long 0 0,First,#,origins,Pop,-1,-1;Rhythm_and_Blues \"Rhythm and Blues\" true true false 4 Long 0 0,First,#,origins,Rhythm_and_Blues,-1,-1;Rock \"Rock\" true true false 4 Long 0 0,First,#,origins,Rock,-1,-1;Ragtime \"Ragtime\" true true false 4 Long 0 0,First,#,origins,Ragtime,-1,-1;Salsa \"Salsa\" true true false 4 Long 0 0,First,#,origins,Salsa,-1,-1;Soul_Jazz \"Soul Jazz\" true true false 4 Long 0 0,First,#,origins,Soul_Jazz,-1,-1;Smooth_Jazz \"Smooth Jazz\" true true false 4 Long 0 0,First,#,origins,Smooth_Jazz,-1,-1;Soul \"Soul\" true true false 4 Long 0 0,First,#,origins,Soul,-1,-1;Stride_Piano \"Stride Piano\" true true false 4 Long 0 0,First,#,origins,Stride_Piano,-1,-1;Swing \"Swing\" true true false 4 Long 0 0,First,#,origins,Swing,-1,-1;Vaudeville \"Vaudeville\" true true false 4 Long 0 0,First,#,origins,Vaudeville,-1,-1;World_Fusion \"World Fusion\" true true false 4 Long 0 0,First,#,origins,World_Fusion,-1,-1;LocationType \"LocationType\" true true false 255 Text 0 0,First,#,origins,LocationType,0,254;Shape_Length \"Shape_Length\" false true true 8 Double 0 0,First,#,paths,Shape_Length,-1,-1',\n",
    "    match_option=\"WITHIN_A_DISTANCE\",\n",
    "    search_radius=\"5 Kilometers\",\n",
    "    distance_field_name=\"\",\n",
    "    match_fields=None\n",
    ")\n",
    "print(\"ranked the origins point layer\")\n",
    "\n",
    "##destinations\n",
    "arcpy.analysis.SpatialJoin(\n",
    "    target_features=\"destinations\",\n",
    "    join_features=\"paths\",\n",
    "    out_feature_class=\"destinations_rankedbypaths\",\n",
    "    join_operation=\"JOIN_ONE_TO_ONE\",\n",
    "    join_type=\"KEEP_ALL\",\n",
    "    field_mapping='Arrival_Country \"Arrival Country\" true true false 8000 Text 0 0,First,#,origins,Arrival_Country,0,7999;Arrival_State \"Arrival State\" true true false 8000 Text 0 0,First,#,origins,Arrival_State,0,7999;Arrival_County \"Arrival County\" true true false 8000 Text 0 0,First,#,origins,Arrival_County,0,7999;Arrival_City \"Arrival City\" true true false 8000 Text 0 0,First,#,origins,Arrival_City,0,7999;Musician_Name \"Musician Name\" true true false 8000 Text 0 0,First,#,origins,Musician_Name,0,7999;Arrival \"Arrival\" true true false 4 Long 0 0,First,#,origins,Arrival,-1,-1;Depart \"Depart\" true true false 8 Double 0 0,First,#,origins,Depart,-1,-1;Depart_Country \"Depart Country\" true true false 8000 Text 0 0,First,#,origins,Depart_Country,0,7999;Depart_State \"Depart State\" true true false 8000 Text 0 0,First,#,origins,Depart_State,0,7999;Depart_County \"Depart County\" true true false 8000 Text 0 0,First,#,origins,Depart_County,0,7999;Depart_City \"Depart City\" true true false 8000 Text 0 0,First,#,origins,Depart_City,0,7999;Final_Destination \"Final Destination\" true true false 8000 Text 0 0,First,#,origins,Final_Destination,0,7999;Genre \"Genre\" true true false 8000 Text 0 0,First,#,origins,Genre,0,7999;Instrument \"Instrument\" true true false 8000 Text 0 0,First,#,origins,Instrument,0,7999;Free \"Free\" true true false 8000 Text 0 0,First,#,origins,Free,0,7999;Roots \"Roots\" true true false 8000 Text 0 0,First,#,origins,Roots,0,7999;Dyn \"Dyn\" true true false 8000 Text 0 0,First,#,origins,Dyn,0,7999;Public \"Public\" true true false 8000 Text 0 0,First,#,origins,Public,0,7999;Dynasty_Name \"Dynasty Name\" true true false 8000 Text 0 0,First,#,origins,Dynasty_Name,0,7999;MusicianID \"MusicianID\" true true false 4 Long 0 0,First,#,origins,MusicianID,-1,-1;SegmentID \"SegmentID\" true true false 8000 Text 0 0,First,#,origins,SegmentID,0,7999;All_Genres \"All Genres\" true true false 8000 Text 0 0,First,#,origins,All_Genres,0,7999;Afro_Cuban_Jazz \"Afro-Cuban Jazz\" true true false 4 Long 0 0,First,#,origins,Afro_Cuban_Jazz,-1,-1;African_Jazz \"African Jazz\" true true false 4 Long 0 0,First,#,origins,African_Jazz,-1,-1;Acid_Jazz \"Acid Jazz\" true true false 4 Long 0 0,First,#,origins,Acid_Jazz,-1,-1;Acid_Rock \"Acid Rock\" true true false 4 Long 0 0,First,#,origins,Acid_Rock,-1,-1;Bebop \"Bebop\" true true false 4 Long 0 0,First,#,origins,Bebop,-1,-1;Boogaloo \"Boogaloo\" true true false 4 Long 0 0,First,#,origins,Boogaloo,-1,-1;Blues \"Blues\" true true false 4 Long 0 0,First,#,origins,Blues,-1,-1;Bossa_Nova \"Bossa Nova\" true true false 4 Long 0 0,First,#,origins,Bossa_Nova,-1,-1;Broadway \"Broadway\" true true false 4 Long 0 0,First,#,origins,Broadway,-1,-1;Brass_Band \"Brass Band\" true true false 4 Long 0 0,First,#,origins,Brass_Band,-1,-1;Boogie_Woogie \"Boogie-Woogie\" true true false 4 Long 0 0,First,#,origins,Boogie_Woogie,-1,-1;Spirituals \"Spirituals\" true true false 4 Long 0 0,First,#,origins,Spirituals,-1,-1;Circus \"Circus\" true true false 4 Long 0 0,First,#,origins,Circus,-1,-1;European_Classical \"European Classical\" true true false 4 Long 0 0,First,#,origins,European_Classical,-1,-1;Folk_Cape_Verde \"Folk Cape Verde\" true true false 4 Long 0 0,First,#,origins,Folk_Cape_Verde,-1,-1;Country \"Country\" true true false 4 Long 0 0,First,#,origins,Country,-1,-1;Disco \"Disco\" true true false 4 Long 0 0,First,#,origins,Disco,-1,-1;Doo_Wop \"Doo-Wop\" true true false 4 Long 0 0,First,#,origins,Doo_Wop,-1,-1;Early_Jazz \"Early Jazz\" true true false 4 Long 0 0,First,#,origins,Early_Jazz,-1,-1;Easy_Listening \"Easy Listening\" true true false 4 Long 0 0,First,#,origins,Easy_Listening,-1,-1;Free_Jazz \"Free Jazz\" true true false 4 Long 0 0,First,#,origins,Free_Jazz,-1,-1;Funk \"Funk\" true true false 4 Long 0 0,First,#,origins,Funk,-1,-1;Folk_American \"Folk American\" true true false 4 Long 0 0,First,#,origins,Folk_American,-1,-1;Fusion \"Fusion\" true true false 4 Long 0 0,First,#,origins,Fusion,-1,-1;General_Jazz \"General Jazz\" true true false 4 Long 0 0,First,#,origins,General_Jazz,-1,-1;Gospel \"Gospel\" true true false 4 Long 0 0,First,#,origins,Gospel,-1,-1;Hard_Bop \"Hard Bop\" true true false 4 Long 0 0,First,#,origins,Hard_Bop,-1,-1;Hip_Hop \"Hip Hop\" true true false 4 Long 0 0,First,#,origins,Hip_Hop,-1,-1;House \"House\" true true false 4 Long 0 0,First,#,origins,House,-1,-1;Jump_Blues \"Jump Blues\" true true false 4 Long 0 0,First,#,origins,Jump_Blues,-1,-1;Jazz_Funk \"Jazz Funk\" true true false 4 Long 0 0,First,#,origins,Jazz_Funk,-1,-1;Latin_Jazz \"Latin Jazz\" true true false 4 Long 0 0,First,#,origins,Latin_Jazz,-1,-1;Latin \"Latin\" true true false 4 Long 0 0,First,#,origins,Latin,-1,-1;Military_Band \"Military Band\" true true false 4 Long 0 0,First,#,origins,Military_Band,-1,-1;Minstrelsy \"Minstrelsy\" true true false 4 Long 0 0,First,#,origins,Minstrelsy,-1,-1;Motown \"Motown\" true true false 4 Long 0 0,First,#,origins,Motown,-1,-1;Musical_Theater \"Musical Theater\" true true false 4 Long 0 0,First,#,origins,Musical_Theater,-1,-1;New_Wave \"New Wave\" true true false 4 Long 0 0,First,#,origins,New_Wave,-1,-1;Opera \"Opera\" true true false 4 Long 0 0,First,#,origins,Opera,-1,-1;Pop \"Pop\" true true false 4 Long 0 0,First,#,origins,Pop,-1,-1;Rhythm_and_Blues \"Rhythm and Blues\" true true false 4 Long 0 0,First,#,origins,Rhythm_and_Blues,-1,-1;Rock \"Rock\" true true false 4 Long 0 0,First,#,origins,Rock,-1,-1;Ragtime \"Ragtime\" true true false 4 Long 0 0,First,#,origins,Ragtime,-1,-1;Salsa \"Salsa\" true true false 4 Long 0 0,First,#,origins,Salsa,-1,-1;Soul_Jazz \"Soul Jazz\" true true false 4 Long 0 0,First,#,origins,Soul_Jazz,-1,-1;Smooth_Jazz \"Smooth Jazz\" true true false 4 Long 0 0,First,#,origins,Smooth_Jazz,-1,-1;Soul \"Soul\" true true false 4 Long 0 0,First,#,origins,Soul,-1,-1;Stride_Piano \"Stride Piano\" true true false 4 Long 0 0,First,#,origins,Stride_Piano,-1,-1;Swing \"Swing\" true true false 4 Long 0 0,First,#,origins,Swing,-1,-1;Vaudeville \"Vaudeville\" true true false 4 Long 0 0,First,#,origins,Vaudeville,-1,-1;World_Fusion \"World Fusion\" true true false 4 Long 0 0,First,#,origins,World_Fusion,-1,-1;LocationType \"LocationType\" true true false 255 Text 0 0,First,#,origins,LocationType,0,254;Shape_Length \"Shape_Length\" false true true 8 Double 0 0,First,#,paths,Shape_Length,-1,-1',\n",
    "    match_option=\"WITHIN_A_DISTANCE\",\n",
    "    search_radius=\"5 Kilometers\",\n",
    "    distance_field_name=\"\",\n",
    "    match_fields=None\n",
    ")\n",
    "print(\"ranked the destinations point layer\")"
   ]
  }
 ],
 "metadata": {
  "kernelspec": {
   "display_name": "ArcGISPro",
   "language": "python",
   "name": "python3"
  },
  "language_info": {
   "file_extension": ".py",
   "mimetype": "text/x-python",
   "name": "python",
   "version": "3.11.10"
  }
 },
 "nbformat": 4,
 "nbformat_minor": 4
}
